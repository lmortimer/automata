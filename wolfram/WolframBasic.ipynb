{
 "cells": [
  {
   "cell_type": "markdown",
   "metadata": {},
   "source": [
    "# Elementary Cellular Automata\n",
    "\n",
    "## Introduction\n",
    "\n",
    "\n",
    "| Rule 222                | Rule 90               | Rule 30               |\n",
    "| ----------------------- | --------------------- | --------------------- |\n",
    "| ![Rule222](rule222.png) | ![Rule90](rule90.png) | ![Rule30](rule30.png) |\n",
    "\n",
    "Simple rules can generate complex behaviour. I'm reading _A New Kind of Science_ by Stephen Wolfram. A key idea of the book is that a simple rule, applied iteratively, can generate complex behaviour. The difference between Rules 222, 90, and 30 are trivial, yet they generate vastly different results.\n",
    "\n",
    "In this post we explore the principles and implement the Elementary Cellular Automata system in F#.\n",
    "\n",
    "## Celluar Automata\n",
    "\n",
    "Here's a 7 x 4 grid. The dots represent Empty cells, the X represent Full cells. All of our grids start with a single Full cell in the middle of the top row.\n",
    "\n",
    "    ...X...\n",
    "    .......\n",
    "    .......\n",
    "    .......\n",
    "\n",
    "We then define a rule. A rule is a function which decides whether a single cell is Empty or Full. This rule function takes values of the 3 cells from the row directly above, corresponding to the cells above and to the left (`1`), directly above (`2`), and above and to the right (`3`). We visualise this below. The cell we are trying to calculate is `?`.\n",
    "\n",
    "    123....        .123...        ..123..        ...123.        ....123\n",
    "    .?.....        ..?....        ...?...        ....?..        .....?.\n",
    "    .......        .......        .......        .......        .......\n",
    "    .......        .......        .......        .......        .......\n",
    "    \n",
    "The same rule is applied row after row. The rule is not applied to cells in the far left column and far right columns. These cells will always remain Empty. We'll look at the naming convention of rules later on, but for now here's one example.\n",
    "    \n",
    "Below is _Rule 222_. The first pattern is saying that if cells `1`, `2`, and `3` are Full, then the cell `?` will be Full. And so on, for every possible combination of those 3 cells.\n",
    "\n",
    "    XXX    XX.    X.X    X..    .XX    .X.    ..X    ...\n",
    "     X      X      .      X      X      X      X      .\n",
    "     \n",
    "This system of rules is as simple as we can get. Each cell can only have two possible states, and the value of the next cell only depends on it's neighbours."
   ]
  },
  {
   "cell_type": "markdown",
   "metadata": {},
   "source": [
    "## Rules as Code\n",
    "We just described the Celluar Automata domain. Let's implement it in code. \n",
    "\n",
    "- A `Cell` can be either `Empty` or `Full`.\n",
    "- The `Rule` type is a function which takes 3 `Cell`s and returns the value of a single `Cell`."
   ]
  },
  {
   "cell_type": "code",
   "execution_count": 1,
   "metadata": {},
   "outputs": [
    {
     "data": {
      "text/html": [
       "\r\n",
       "<div>\r\n",
       "    <div id='dotnet-interactive-this-cell-12256.bce42b8f15e348d88ccc1b3b229923ab' style='display: none'>\r\n",
       "        The below script needs to be able to find the current output cell; this is an easy method to get it.\r\n",
       "    </div>\r\n",
       "    <script type='text/javascript'>\r\n",
       "// ensure `require` is available globally\r\n",
       "if (typeof require !== typeof Function || typeof require.config !== typeof Function) {\r\n",
       "    let require_script = document.createElement('script');\r\n",
       "    require_script.setAttribute('src', 'https://cdnjs.cloudflare.com/ajax/libs/require.js/2.3.6/require.min.js');\r\n",
       "    require_script.setAttribute('type', 'text/javascript');\r\n",
       "    require_script.onload = function () {\r\n",
       "        loadDotnetInteractiveApi();\r\n",
       "    };\r\n",
       "\r\n",
       "    document.getElementsByTagName('head')[0].appendChild(require_script);\r\n",
       "}\r\n",
       "else {\r\n",
       "    loadDotnetInteractiveApi();\r\n",
       "}\r\n",
       "\r\n",
       "async function probeAddresses(probingAddresses) {\r\n",
       "    function timeout(ms, promise) {\r\n",
       "        return new Promise(function (resolve, reject) {\r\n",
       "            setTimeout(function () {\r\n",
       "                reject(new Error('timeout'))\r\n",
       "            }, ms)\r\n",
       "            promise.then(resolve, reject)\r\n",
       "        })\r\n",
       "    }\r\n",
       "\r\n",
       "    if (Array.isArray(probingAddresses)) {\r\n",
       "        for (let i = 0; i < probingAddresses.length; i++) {\r\n",
       "\r\n",
       "            let rootUrl = probingAddresses[i];\r\n",
       "\r\n",
       "            if (!rootUrl.endsWith('/')) {\r\n",
       "                rootUrl = `${rootUrl}/`;\r\n",
       "            }\r\n",
       "\r\n",
       "            try {\r\n",
       "                let response = await timeout(1000, fetch(`${rootUrl}discovery`, {\r\n",
       "                    method: 'POST',\r\n",
       "                    cache: 'no-cache',\r\n",
       "                    mode: 'cors',\r\n",
       "                    timeout: 1000,\r\n",
       "                    headers: {\r\n",
       "                        'Content-Type': 'text/plain'\r\n",
       "                    },\r\n",
       "                    body: probingAddresses[i]\r\n",
       "                }));\r\n",
       "\r\n",
       "                if (response.status == 200) {\r\n",
       "                    return rootUrl;\r\n",
       "                }\r\n",
       "            }\r\n",
       "            catch (e) { }\r\n",
       "        }\r\n",
       "    }\r\n",
       "}\r\n",
       "\r\n",
       "function loadDotnetInteractiveApi() {\r\n",
       "    probeAddresses([\"http://10.52.8.69:1000/\", \"http://172.17.125.241:1000/\", \"http://127.0.0.1:1000/\"])\r\n",
       "        .then((root) => {\r\n",
       "            // use probing to find host url and api resources\r\n",
       "            // load interactive helpers and language services\r\n",
       "            let dotnetInteractiveRequire = require.config({\r\n",
       "                context: '12256.bce42b8f15e348d88ccc1b3b229923ab',\r\n",
       "                paths: {\r\n",
       "                    'dotnet-interactive': `${root}resources`\r\n",
       "                }\r\n",
       "            }) || require;\r\n",
       "\r\n",
       "            let dotnetInteractiveExtensionsRequire = require.config({\r\n",
       "                context: '12256.bce42b8f15e348d88ccc1b3b229923ab',\r\n",
       "                paths: {\r\n",
       "                    'dotnet-interactive-extensions': `${root}extensions`\r\n",
       "                }\r\n",
       "            }) || require;\r\n",
       "\r\n",
       "            window.dotnetInteractiveRequire = dotnetInteractiveRequire;\r\n",
       "            window.dotnetInteractiveExtensionsRequire = dotnetInteractiveExtensionsRequire;\r\n",
       "            window.getExtensionRequire = function(extensionName, extensionCacheBuster) {\r\n",
       "                let paths = {};\r\n",
       "                paths[extensionName] = `${root}extensions/${extensionName}/resources/`;\r\n",
       "                \r\n",
       "                let internalRequire = require.config({\r\n",
       "                    context: extensionCacheBuster,\r\n",
       "                    paths: paths,\r\n",
       "                    urlArgs: `cacheBuster=${extensionCacheBuster}`\r\n",
       "                    }) || require;\r\n",
       "\r\n",
       "                return internalRequire\r\n",
       "            };\r\n",
       "        \r\n",
       "            dotnetInteractiveRequire([\r\n",
       "                    'dotnet-interactive/dotnet-interactive'\r\n",
       "                ],\r\n",
       "                function (dotnet) {\r\n",
       "                    dotnet.init(window);\r\n",
       "                },\r\n",
       "                function (error) {\r\n",
       "                    console.log(error);\r\n",
       "                }\r\n",
       "            );\r\n",
       "        })\r\n",
       "        .catch(error => {console.log(error);});\r\n",
       "    }\r\n",
       "    </script>\r\n",
       "</div>"
      ]
     },
     "metadata": {},
     "output_type": "display_data"
    }
   ],
   "source": [
    "// A Cell is either Empty or Full\n",
    "type Cell = Empty | Full\n",
    "\n",
    "// Rules are functions which take in the values of 3 Cells, and return a single Cell value\n",
    "type Rule = (Cell * Cell * Cell) -> Cell\n",
    "\n",
    "// Rule 222 implemented in code\n",
    "let rule222: Rule = function \n",
    "    | (Full, Full, Full) -> Full\n",
    "    | (Full, Full, Empty) -> Full\n",
    "    | (Full, Empty, Full) -> Empty\n",
    "    | (Full, Empty, Empty) -> Full\n",
    "    | (Empty, Full, Full) -> Full\n",
    "    | (Empty, Full, Empty) -> Full\n",
    "    | (Empty, Empty, Full) -> Full\n",
    "    | (Empty, Empty, Empty) -> Empty"
   ]
  },
  {
   "cell_type": "markdown",
   "metadata": {},
   "source": [
    "## Modelling the Grid\n",
    "We've just described the Cellular Automata system in its entirety. Patterns and complexity emerge from just those rules. The rules by themselves are abstract and we need to apply them somehow. Here we apply the rule on a simple grid. But the same rule could be applied to any other surface - a 3D surface, mobius strip, or grid where the values wrap around.\n",
    "\n",
    "Onto the implementing the system on a grid. Let's start off by generating the first row."
   ]
  },
  {
   "cell_type": "code",
   "execution_count": 2,
   "metadata": {},
   "outputs": [],
   "source": [
    "let generateStandardFirstRow (width: int) =\n",
    "    \n",
    "    if width % 2 = 0 then invalidArg \"width\" (sprintf \"Value must be an odd number. Value passed was %d.\" width)\n",
    "    \n",
    "    Seq.init width (function\n",
    "        | n when n = (width / 2) -> Full\n",
    "        | _ -> Empty\n",
    "    )"
   ]
  },
  {
   "cell_type": "markdown",
   "metadata": {},
   "source": [
    "Running that, we get our row of `Empty`s with a `Full` in the middle."
   ]
  },
  {
   "cell_type": "code",
   "execution_count": 3,
   "metadata": {},
   "outputs": [
    {
     "data": {
      "text/html": [
       "<table><thead><tr><th><i>index</i></th><th></th></tr></thead><tbody><tr><td>0</td><td><div class=\"dni-plaintext\">Empty</div></td></tr><tr><td>1</td><td><div class=\"dni-plaintext\">Empty</div></td></tr><tr><td>2</td><td><div class=\"dni-plaintext\">Empty</div></td></tr><tr><td>3</td><td><div class=\"dni-plaintext\">Full</div></td></tr><tr><td>4</td><td><div class=\"dni-plaintext\">Empty</div></td></tr><tr><td>5</td><td><div class=\"dni-plaintext\">Empty</div></td></tr><tr><td>6</td><td><div class=\"dni-plaintext\">Empty</div></td></tr></tbody></table>"
      ]
     },
     "execution_count": 3,
     "metadata": {},
     "output_type": "execute_result"
    }
   ],
   "source": [
    "generateStandardFirstRow 7"
   ]
  },
  {
   "cell_type": "markdown",
   "metadata": {},
   "source": [
    "In order to generate the next row we only need to know the row before it. We take the previous row and apply `Seq.windowed`. This splits the row of `Cell`s into groups of 3 `Cell`s, which we need in order to calculate the next value.\n",
    "\n",
    "Recall that our rule requires 3 cells in order to calculate the next value. This is the cell above and to the left, the cell directly above, and the cell above and to the right. This is a problem for the far left and far right columns of the grid. They only have 2 of the 3 cells required. To get around this we enforce a rule that the left column and right column will always remain `Empty`."
   ]
  },
  {
   "cell_type": "code",
   "execution_count": 4,
   "metadata": {},
   "outputs": [],
   "source": [
    "let generateNextRow (rule: Rule) (row: Cell seq) =\n",
    "    let generatedCells =\n",
    "        row\n",
    "        |> Seq.windowed 3\n",
    "        |> Seq.map (fun v ->\n",
    "            rule (v.[0], v.[1], v.[2])\n",
    "        )\n",
    "        \n",
    "    // the first and last Cells of each row are Empty since we didn't generate a value for them above\n",
    "    seq {\n",
    "        yield Empty\n",
    "        yield! generatedCells\n",
    "        yield Empty\n",
    "    }"
   ]
  },
  {
   "cell_type": "markdown",
   "metadata": {},
   "source": [
    "Now let's write a function which generates row after row. Sequences in F# are lazily evaluated. They're the C# `IEnumerable` type under the hood. By treating everything as a sequence we're essentially defining the rules as to how the grid will be generated.\n",
    "\n",
    "`Seq.unfold` iteratively applies the `Rule` to whatever the previous row was, collecting results. Notice we don't specify how many rows to generate, that's up to the caller of this function."
   ]
  },
  {
   "cell_type": "code",
   "execution_count": 5,
   "metadata": {},
   "outputs": [],
   "source": [
    "let generatePattern (rule: Rule) (firstRow: Cell seq) = \n",
    "    firstRow\n",
    "    |> Seq.unfold (fun row ->\n",
    "        Some(row, (generateNextRow rule row))\n",
    "        )\n"
   ]
  },
  {
   "cell_type": "markdown",
   "metadata": {},
   "source": [
    "Now we can generate the grid!"
   ]
  },
  {
   "cell_type": "code",
   "execution_count": 6,
   "metadata": {},
   "outputs": [],
   "source": [
    "let firstRow = generateStandardFirstRow 101\n",
    "let rows = generatePattern rule222 firstRow |> Seq.take 10"
   ]
  },
  {
   "cell_type": "markdown",
   "metadata": {},
   "source": [
    "But we want to visualise it. Here's a basic ASCII renderer."
   ]
  },
  {
   "cell_type": "code",
   "execution_count": 7,
   "metadata": {},
   "outputs": [
    {
     "data": {
      "text/plain": [
       "..................................................X..................................................\n",
       ".................................................XXX.................................................\n",
       "................................................XXXXX................................................\n",
       "...............................................XXXXXXX...............................................\n",
       "..............................................XXXXXXXXX..............................................\n",
       ".............................................XXXXXXXXXXX.............................................\n",
       "............................................XXXXXXXXXXXXX............................................\n",
       "...........................................XXXXXXXXXXXXXXX...........................................\n",
       "..........................................XXXXXXXXXXXXXXXXX..........................................\n",
       ".........................................XXXXXXXXXXXXXXXXXXX........................................."
      ]
     },
     "execution_count": 7,
     "metadata": {},
     "output_type": "execute_result"
    }
   ],
   "source": [
    "let drawCell = function\n",
    "| Full -> \"X\"\n",
    "| Empty -> \".\"\n",
    "\n",
    "/// Render the grid to an ASCII string\n",
    "let drawGrid (grid: Cell seq seq) =\n",
    "    grid\n",
    "    |> Seq.map (fun row ->\n",
    "        row\n",
    "        |> Seq.map drawCell\n",
    "        |> String.concat \"\"\n",
    "    )\n",
    "    |> String.concat \"\\n\"\n",
    "    \n",
    "drawGrid rows"
   ]
  },
  {
   "cell_type": "markdown",
   "metadata": {},
   "source": [
    "# Other Rules\n",
    "Our algorithm works! Let's experiment with other rules."
   ]
  },
  {
   "cell_type": "code",
   "execution_count": 8,
   "metadata": {},
   "outputs": [
    {
     "data": {
      "text/plain": [
       "..................................................X..................................................\n",
       ".................................................X.X.................................................\n",
       "................................................X...X................................................\n",
       "...............................................X.X.X.X...............................................\n",
       "..............................................X.......X..............................................\n",
       ".............................................X.X.....X.X.............................................\n",
       "............................................X...X...X...X............................................\n",
       "...........................................X.X.X.X.X.X.X.X...........................................\n",
       "..........................................X...............X..........................................\n",
       ".........................................X.X.............X.X.........................................\n",
       "........................................X...X...........X...X........................................\n",
       ".......................................X.X.X.X.........X.X.X.X.......................................\n",
       "......................................X.......X.......X.......X......................................\n",
       ".....................................X.X.....X.X.....X.X.....X.X.....................................\n",
       "....................................X...X...X...X...X...X...X...X....................................\n",
       "...................................X.X.X.X.X.X.X.X.X.X.X.X.X.X.X.X...................................\n",
       "..................................X...............................X..................................\n",
       ".................................X.X.............................X.X.................................\n",
       "................................X...X...........................X...X................................\n",
       "...............................X.X.X.X.........................X.X.X.X...............................\n",
       "..............................X.......X.......................X.......X..............................\n",
       ".............................X.X.....X.X.....................X.X.....X.X.............................\n",
       "............................X...X...X...X...................X...X...X...X............................\n",
       "...........................X.X.X.X.X.X.X.X.................X.X.X.X.X.X.X.X...........................\n",
       "..........................X...............X...............X...............X..........................\n",
       ".........................X.X.............X.X.............X.X.............X.X.........................\n",
       "........................X...X...........X...X...........X...X...........X...X........................\n",
       ".......................X.X.X.X.........X.X.X.X.........X.X.X.X.........X.X.X.X.......................\n",
       "......................X.......X.......X.......X.......X.......X.......X.......X......................\n",
       ".....................X.X.....X.X.....X.X.....X.X.....X.X.....X.X.....X.X.....X.X.....................\n",
       "....................X...X...X...X...X...X...X...X...X...X...X...X...X...X...X...X....................\n",
       "...................X.X.X.X.X.X.X.X.X.X.X.X.X.X.X.X.X.X.X.X.X.X.X.X.X.X.X.X.X.X.X.X...................\n",
       "..................X...............................................................X..................\n",
       ".................X.X.............................................................X.X.................\n",
       "................X...X...........................................................X...X................\n",
       "...............X.X.X.X.........................................................X.X.X.X...............\n",
       "..............X.......X.......................................................X.......X..............\n",
       ".............X.X.....X.X.....................................................X.X.....X.X.............\n",
       "............X...X...X...X...................................................X...X...X...X............\n",
       "...........X.X.X.X.X.X.X.X.................................................X.X.X.X.X.X.X.X...........\n",
       "..........X...............X...............................................X...............X..........\n",
       ".........X.X.............X.X.............................................X.X.............X.X.........\n",
       "........X...X...........X...X...........................................X...X...........X...X........\n",
       ".......X.X.X.X.........X.X.X.X.........................................X.X.X.X.........X.X.X.X.......\n",
       "......X.......X.......X.......X.......................................X.......X.......X.......X......\n",
       ".....X.X.....X.X.....X.X.....X.X.....................................X.X.....X.X.....X.X.....X.X.....\n",
       "....X...X...X...X...X...X...X...X...................................X...X...X...X...X...X...X...X....\n",
       "...X.X.X.X.X.X.X.X.X.X.X.X.X.X.X.X.................................X.X.X.X.X.X.X.X.X.X.X.X.X.X.X.X...\n",
       "..X...............................X...............................X...............................X..\n",
       ".X.X.............................X.X.............................X.X.............................X.X."
      ]
     },
     "execution_count": 8,
     "metadata": {},
     "output_type": "execute_result"
    }
   ],
   "source": [
    "let rule90: Rule = function\n",
    "    | (Full, Full, Full) -> Empty\n",
    "    | (Full, Full, Empty) -> Full\n",
    "    | (Full, Empty, Full) -> Empty\n",
    "    | (Full, Empty, Empty) -> Full\n",
    "    | (Empty, Full, Full) -> Full\n",
    "    | (Empty, Full, Empty) -> Empty\n",
    "    | (Empty, Empty, Full) -> Full\n",
    "    | (Empty, Empty, Empty) -> Empty\n",
    "    \n",
    "let firstRow = generateStandardFirstRow 101\n",
    "let rows = generatePattern rule90 firstRow |> Seq.take 50\n",
    "let arrayOfRows = rows |> Seq.toArray\n",
    "    \n",
    "drawGrid rows"
   ]
  },
  {
   "cell_type": "markdown",
   "metadata": {},
   "source": [
    "# Image Output\n",
    "Here's a graphical renderer for the same grid implementation."
   ]
  },
  {
   "cell_type": "code",
   "execution_count": 12,
   "metadata": {},
   "outputs": [
    {
     "data": {
      "text/html": [
       "<table><thead><tr><th>Frames</th><th>PixelType</th><th>Width</th><th>Height</th><th>Metadata</th><th>Frames</th></tr></thead><tbody><tr><td><div class=\"dni-plaintext\">Image&lt;Rgba32&gt;: 501x250</div></td><td><div class=\"dni-plaintext\">SixLabors.ImageSharp.Formats.PixelTypeInfo</div></td><td><div class=\"dni-plaintext\">501</div></td><td><div class=\"dni-plaintext\">250</div></td><td><div class=\"dni-plaintext\">SixLabors.ImageSharp.Metadata.ImageMetadata</div></td><td><div class=\"dni-plaintext\">Image&lt;Rgba32&gt;: 501x250</div></td></tr></tbody></table>"
      ]
     },
     "execution_count": 12,
     "metadata": {},
     "output_type": "execute_result"
    }
   ],
   "source": [
    "#r \"nuget:SixLabors.ImageSharp\"\n",
    "open SixLabors.ImageSharp;\n",
    "open SixLabors.ImageSharp.PixelFormats;\n",
    "\n",
    "let cols = 501;\n",
    "let rows = 250;\n",
    "\n",
    "let image = new Image<Rgba32>(cols, rows);\n",
    "let white = new Rgba32(255F, 255F, 100F, 1F);\n",
    "let black = new Rgba32(0f, 0f, 0f, 1F);\n",
    "\n",
    "let grid =\n",
    "    generateStandardFirstRow cols\n",
    "    |> generatePattern rule90\n",
    "    |> Seq.take rows\n",
    "\n",
    "let withIndexes x = x |> Seq.mapi (fun index item -> (index, item))\n",
    "\n",
    "for (rowIndex, row) in withIndexes grid do\n",
    "\n",
    "    for (cellIndex, cell) in withIndexes row do\n",
    "\n",
    "        let colour =\n",
    "            match cell with\n",
    "            | Full -> black\n",
    "            | Empty -> white\n",
    "\n",
    "        image.[cellIndex, rowIndex] <- colour\n",
    "\n",
    "image.Save(\"rule90.png\")\n",
    "image\n"
   ]
  },
  {
   "cell_type": "markdown",
   "metadata": {},
   "source": [
    "![out](rule90.png)"
   ]
  },
  {
   "cell_type": "markdown",
   "metadata": {},
   "source": [
    "# Rules\n",
    "So far we've looked at a few specific rules. But how many rules are there and can we generate them dynamically? We've hardcoded rules as functions\n",
    "\n",
    "    let rule222: Rule = function \n",
    "        | (Full, Full, Full) -> Full\n",
    "        | (Full, Full, Empty) -> Full\n",
    "        | (Full, Empty, Full) -> Empty\n",
    "        | (Full, Empty, Empty) -> Full\n",
    "        | (Empty, Full, Full) -> Full\n",
    "        | (Empty, Full, Empty) -> Full\n",
    "        | (Empty, Empty, Full) -> Full\n",
    "        | (Empty, Empty, Empty) -> Empty\n",
    "\n",
    "All rules must return a value for each pattern. Because the patterns are static we could think of identifying rules by what they return for each case, what is on the right hand side of the `->`. We could think of the above rule as \n",
    "\n",
    "    (Full, Full, Empty, Full, Full, Full, Full, Empty)\n",
    "    \n",
    "So a rule is a identified as a list of 8 boolean values. If we use binary to represent this we need a byte (8 bits) of information. This means there are 2^8 rules, giving us 256 possible rules in the Wolfram automata system.\n",
    "\n",
    "So there are only 256 rules in this Wolfram automata system, and the rule's name determines what it returns. This is illustrated below. The binary pattern maps 1 to `Full` and 0 to `Empty`.\n",
    "\n",
    "| 128 | 64 | 32 | 16 | 8 | 4 | 2 | 1 | Written Out                     | Rule |\n",
    "| --- | -- | -- | -- | - | - | - | - | ------------------------------- | ---- |\n",
    "|  1  | 1  | 0  | 1  | 1 | 1 | 1 | 0 | 128 + 64 + 16 + 8 + 4 + 2 + 1 = | 222  |\n",
    "|  0  | 1  | 0  | 1  | 1 | 0 | 1 | 0 | 64 + 16 + 8 + 2 =               | 90   |\n"
   ]
  },
  {
   "cell_type": "code",
   "execution_count": 10,
   "metadata": {},
   "outputs": [
    {
     "data": {
      "text/html": [
       "<div class=\"dni-plaintext\">Empty</div>"
      ]
     },
     "execution_count": 10,
     "metadata": {},
     "output_type": "execute_result"
    }
   ],
   "source": [
    "let generateRule(ruleNumber: byte) = \n",
    "    let ruleBitString = Convert.ToString(ruleNumber, 2).PadLeft(8, '0');\n",
    "\n",
    "    let patternToBitStringIndex = function \n",
    "        | (Full, Full, Full) -> 0\n",
    "        | (Full, Full, Empty) -> 1\n",
    "        | (Full, Empty, Full) -> 2\n",
    "        | (Full, Empty, Empty) -> 3\n",
    "        | (Empty, Full, Full) -> 4\n",
    "        | (Empty, Full, Empty) -> 5\n",
    "        | (Empty, Empty, Full) -> 6\n",
    "        | (Empty, Empty, Empty) -> 7\n",
    "\n",
    "    let ruleFn (cells: Cell * Cell * Cell) = \n",
    "        let bitIndex = patternToBitStringIndex cells\n",
    "\n",
    "        match ruleBitString.[bitIndex] with\n",
    "        | '0' -> Empty\n",
    "        | '1' -> Full\n",
    "        | _ -> raise (Exception(\"Unexpected input\"))\n",
    "        \n",
    "    ruleFn\n",
    "    \n",
    "let rule254 = generateRule(254uy)\n",
    "rule254 (Empty, Empty, Empty)"
   ]
  },
  {
   "cell_type": "markdown",
   "metadata": {},
   "source": [
    "And there we have it, our rule function generator. Here are some interesting rules.\n",
    "\n",
    "## Rule 62\n",
    "\n",
    "![Rule 62](rule62.png)\n",
    "\n",
    "## Rule 110\n",
    "\n",
    "![Rule 110](rule110.png)\n",
    "\n",
    "## Rule 150\n",
    "\n",
    "![Rule 150](rule150.png)\n",
    "\n",
    "# Conclusion\n",
    "F# is a perfect language to implement Cellular Automata. The type system allows us to exactly model the domain, and sequences make the implementation elegant. There's no confusing cruft in our code. From this basic implementation you can easily make modifications to the Cellular Automata system. Here's a few fun things to try out. What if ...\n",
    "\n",
    "- The first row was randomly generated\n",
    "- Cells could have a value other than `Full` or `Empty`? \n",
    "- Rules incorporated some degree of randomness when deciding the value of the next cell?\n",
    "- The grid was hexagonal rather than square based?\n",
    "\n",
    "# Further Reading\n",
    "- [Oh My Gosh, It’s Covered in Rule 30s! - Stephen Wolfram](https://writings.stephenwolfram.com/2017/06/oh-my-gosh-its-covered-in-rule-30s/)\n",
    "- [Stephen Wolfram on the Lex Fridman podcast](https://www.youtube.com/watch?v=ez773teNFYA)\n",
    "  - [Abridged clip where they discuss Cellular Automata and Rule 30](https://www.youtube.com/watch?v=VguG_y05Xe8)\n"
   ]
  }
 ],
 "metadata": {
  "kernelspec": {
   "display_name": ".NET (F#)",
   "language": "F#",
   "name": ".net-fsharp"
  },
  "language_info": {
   "file_extension": ".fs",
   "mimetype": "text/x-fsharp",
   "name": "C#",
   "pygments_lexer": "fsharp",
   "version": "4.5"
  }
 },
 "nbformat": 4,
 "nbformat_minor": 4
}
